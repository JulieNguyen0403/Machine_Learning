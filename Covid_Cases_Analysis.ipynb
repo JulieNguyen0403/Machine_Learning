{
 "cells": [
  {
   "cell_type": "code",
   "execution_count": 157,
   "metadata": {},
   "outputs": [
    {
     "name": "stdout",
     "output_type": "stream",
     "text": [
      "opening Nebraska Positive Cases Per Date.txt\n",
      "reading Nebraska Positive Cases Per Date.txt\n",
      "2\n",
      "1\n",
      "5\n",
      "4\n",
      "3\n",
      "1\n",
      "1\n",
      "5\n",
      "4\n",
      "6\n",
      "4\n",
      "6\n",
      "5\n",
      "6\n",
      "10\n",
      "7\n",
      "4\n",
      "15\n",
      "25\n",
      "20\n",
      "16\n",
      "27\n",
      "39\n",
      "46\n",
      "22\n",
      "35\n",
      "44\n",
      "46\n",
      "closing Nebraska Positive Cases Per Date.txt\n"
     ]
    }
   ],
   "source": [
    "#Open the file \"Nebraska Positive Cases Per Date.txt\"\n",
    "print('opening Nebraska Positive Cases Per Date.txt')\n",
    "f = open('Nebraska Positive Cases Per Date.txt')\n",
    "\n",
    "#Reading \"Nebraska Positive Cases Per Date.txt\"\n",
    "print('reading Nebraska Positive Cases Per Date.txt')\n",
    "contents = f.read()\n",
    "\n",
    "print(contents)\n",
    "\n",
    "#Closing the file \"Nebraska Positive Cases Per Date.txt\"\n",
    "print('closing Nebraska Positive Cases Per Date.txt')\n",
    "f.close()"
   ]
  },
  {
   "cell_type": "code",
   "execution_count": 158,
   "metadata": {},
   "outputs": [],
   "source": [
    "#Read file contents line by line\n",
    "f = open('Nebraska Positive Cases Per Date.txt')\n",
    "lines = f.readlines()\n",
    "f.close()"
   ]
  },
  {
   "cell_type": "code",
   "execution_count": 159,
   "metadata": {},
   "outputs": [
    {
     "name": "stdout",
     "output_type": "stream",
     "text": [
      "The total number of positive case: 409\n"
     ]
    }
   ],
   "source": [
    "#calculate the total number of positive cases\n",
    "total = 0\n",
    "for ln in lines:\n",
    "    total += int(ln)\n",
    "print('The total number of positive case:', total)"
   ]
  },
  {
   "cell_type": "code",
   "execution_count": 160,
   "metadata": {},
   "outputs": [
    {
     "name": "stdout",
     "output_type": "stream",
     "text": [
      "The number of people tested positive per date: 14\n"
     ]
    }
   ],
   "source": [
    "#The number of people are tested positive per day\n",
    "avg = int(total / len(lines))\n",
    "print('The number of people tested positive per date:', avg)"
   ]
  },
  {
   "cell_type": "code",
   "execution_count": 161,
   "metadata": {},
   "outputs": [
    {
     "name": "stdout",
     "output_type": "stream",
     "text": [
      "The maximum number of new cases in a day: 46\n"
     ]
    }
   ],
   "source": [
    "# Find maximum number of new cases in a day\n",
    "my_list = list()\n",
    "for i in lines:\n",
    "    my_list.append(int(i))\n",
    "my_list\n",
    "Max_numberOfPositiveCases = max(my_list)\n",
    "print('The maximum number of new cases in a day:', Max_numberOfPositiveCases)"
   ]
  },
  {
   "cell_type": "code",
   "execution_count": 162,
   "metadata": {},
   "outputs": [
    {
     "name": "stdout",
     "output_type": "stream",
     "text": [
      "The day in which Nebraska had the maximum number of positive cases is April 2\n",
      "The day in which Nebraska had the maximum number of positive cases is April 6\n"
     ]
    }
   ],
   "source": [
    "#Find the day of the maximum\n",
    "#There is two days missing in March, and the total days in March is 31 (assume that the start date is 8)\n",
    "march_day = 31 - 8 - 2\n",
    "\n",
    "#Data has an index of 23, find the first day max\n",
    "first_max_date = 23- march_day\n",
    "print('The day in which Nebraska had the maximum number of positive cases is April',first_max_date)\n",
    "\n",
    "#Data has an index of 27, find the first day max\n",
    "second_max_date = 27 - march_day\n",
    "print('The day in which Nebraska had the maximum number of positive cases is April',second_max_date)"
   ]
  },
  {
   "cell_type": "code",
   "execution_count": 163,
   "metadata": {
    "scrolled": true
   },
   "outputs": [
    {
     "data": {
      "text/html": [
       "<div>\n",
       "<style scoped>\n",
       "    .dataframe tbody tr th:only-of-type {\n",
       "        vertical-align: middle;\n",
       "    }\n",
       "\n",
       "    .dataframe tbody tr th {\n",
       "        vertical-align: top;\n",
       "    }\n",
       "\n",
       "    .dataframe thead th {\n",
       "        text-align: right;\n",
       "    }\n",
       "</style>\n",
       "<table border=\"1\" class=\"dataframe\">\n",
       "  <thead>\n",
       "    <tr style=\"text-align: right;\">\n",
       "      <th></th>\n",
       "      <th>Date</th>\n",
       "      <th>Positive_Cases_Per_Date</th>\n",
       "      <th>Total_Positive_Cases</th>\n",
       "    </tr>\n",
       "  </thead>\n",
       "  <tbody>\n",
       "    <tr>\n",
       "      <th>0</th>\n",
       "      <td>3/8/2020</td>\n",
       "      <td>2</td>\n",
       "      <td>2</td>\n",
       "    </tr>\n",
       "    <tr>\n",
       "      <th>1</th>\n",
       "      <td>3/10/2020</td>\n",
       "      <td>1</td>\n",
       "      <td>3</td>\n",
       "    </tr>\n",
       "    <tr>\n",
       "      <th>2</th>\n",
       "      <td>3/12/2020</td>\n",
       "      <td>5</td>\n",
       "      <td>8</td>\n",
       "    </tr>\n",
       "    <tr>\n",
       "      <th>3</th>\n",
       "      <td>3/13/2020</td>\n",
       "      <td>4</td>\n",
       "      <td>12</td>\n",
       "    </tr>\n",
       "    <tr>\n",
       "      <th>4</th>\n",
       "      <td>3/14/2020</td>\n",
       "      <td>3</td>\n",
       "      <td>15</td>\n",
       "    </tr>\n",
       "    <tr>\n",
       "      <th>5</th>\n",
       "      <td>3/15/2020</td>\n",
       "      <td>1</td>\n",
       "      <td>16</td>\n",
       "    </tr>\n",
       "    <tr>\n",
       "      <th>6</th>\n",
       "      <td>3/16/2020</td>\n",
       "      <td>1</td>\n",
       "      <td>17</td>\n",
       "    </tr>\n",
       "    <tr>\n",
       "      <th>7</th>\n",
       "      <td>3/17/2020</td>\n",
       "      <td>5</td>\n",
       "      <td>22</td>\n",
       "    </tr>\n",
       "    <tr>\n",
       "      <th>8</th>\n",
       "      <td>3/18/2020</td>\n",
       "      <td>4</td>\n",
       "      <td>26</td>\n",
       "    </tr>\n",
       "    <tr>\n",
       "      <th>9</th>\n",
       "      <td>3/19/2020</td>\n",
       "      <td>6</td>\n",
       "      <td>32</td>\n",
       "    </tr>\n",
       "    <tr>\n",
       "      <th>10</th>\n",
       "      <td>3/20/2020</td>\n",
       "      <td>4</td>\n",
       "      <td>36</td>\n",
       "    </tr>\n",
       "    <tr>\n",
       "      <th>11</th>\n",
       "      <td>3/21/2020</td>\n",
       "      <td>6</td>\n",
       "      <td>42</td>\n",
       "    </tr>\n",
       "    <tr>\n",
       "      <th>12</th>\n",
       "      <td>3/22/2020</td>\n",
       "      <td>5</td>\n",
       "      <td>47</td>\n",
       "    </tr>\n",
       "    <tr>\n",
       "      <th>13</th>\n",
       "      <td>3/23/2020</td>\n",
       "      <td>6</td>\n",
       "      <td>53</td>\n",
       "    </tr>\n",
       "    <tr>\n",
       "      <th>14</th>\n",
       "      <td>3/24/2020</td>\n",
       "      <td>10</td>\n",
       "      <td>63</td>\n",
       "    </tr>\n",
       "    <tr>\n",
       "      <th>15</th>\n",
       "      <td>3/25/2020</td>\n",
       "      <td>7</td>\n",
       "      <td>70</td>\n",
       "    </tr>\n",
       "    <tr>\n",
       "      <th>16</th>\n",
       "      <td>3/26/2020</td>\n",
       "      <td>4</td>\n",
       "      <td>74</td>\n",
       "    </tr>\n",
       "    <tr>\n",
       "      <th>17</th>\n",
       "      <td>3/27/2020</td>\n",
       "      <td>15</td>\n",
       "      <td>89</td>\n",
       "    </tr>\n",
       "    <tr>\n",
       "      <th>18</th>\n",
       "      <td>3/28/2020</td>\n",
       "      <td>25</td>\n",
       "      <td>114</td>\n",
       "    </tr>\n",
       "    <tr>\n",
       "      <th>19</th>\n",
       "      <td>3/29/2020</td>\n",
       "      <td>20</td>\n",
       "      <td>134</td>\n",
       "    </tr>\n",
       "    <tr>\n",
       "      <th>20</th>\n",
       "      <td>3/30/2020</td>\n",
       "      <td>16</td>\n",
       "      <td>150</td>\n",
       "    </tr>\n",
       "    <tr>\n",
       "      <th>21</th>\n",
       "      <td>3/31/2020</td>\n",
       "      <td>27</td>\n",
       "      <td>177</td>\n",
       "    </tr>\n",
       "    <tr>\n",
       "      <th>22</th>\n",
       "      <td>4/1/2020</td>\n",
       "      <td>39</td>\n",
       "      <td>216</td>\n",
       "    </tr>\n",
       "    <tr>\n",
       "      <th>23</th>\n",
       "      <td>4/2/2020</td>\n",
       "      <td>47</td>\n",
       "      <td>262</td>\n",
       "    </tr>\n",
       "    <tr>\n",
       "      <th>24</th>\n",
       "      <td>4/3/2020</td>\n",
       "      <td>22</td>\n",
       "      <td>288</td>\n",
       "    </tr>\n",
       "    <tr>\n",
       "      <th>25</th>\n",
       "      <td>4/4/2020</td>\n",
       "      <td>35</td>\n",
       "      <td>323</td>\n",
       "    </tr>\n",
       "    <tr>\n",
       "      <th>26</th>\n",
       "      <td>4/5/2020</td>\n",
       "      <td>44</td>\n",
       "      <td>363</td>\n",
       "    </tr>\n",
       "    <tr>\n",
       "      <th>27</th>\n",
       "      <td>4/6/2020</td>\n",
       "      <td>46</td>\n",
       "      <td>409</td>\n",
       "    </tr>\n",
       "  </tbody>\n",
       "</table>\n",
       "</div>"
      ],
      "text/plain": [
       "         Date  Positive_Cases_Per_Date  Total_Positive_Cases\n",
       "0    3/8/2020                        2                     2\n",
       "1   3/10/2020                        1                     3\n",
       "2   3/12/2020                        5                     8\n",
       "3   3/13/2020                        4                    12\n",
       "4   3/14/2020                        3                    15\n",
       "5   3/15/2020                        1                    16\n",
       "6   3/16/2020                        1                    17\n",
       "7   3/17/2020                        5                    22\n",
       "8   3/18/2020                        4                    26\n",
       "9   3/19/2020                        6                    32\n",
       "10  3/20/2020                        4                    36\n",
       "11  3/21/2020                        6                    42\n",
       "12  3/22/2020                        5                    47\n",
       "13  3/23/2020                        6                    53\n",
       "14  3/24/2020                       10                    63\n",
       "15  3/25/2020                        7                    70\n",
       "16  3/26/2020                        4                    74\n",
       "17  3/27/2020                       15                    89\n",
       "18  3/28/2020                       25                   114\n",
       "19  3/29/2020                       20                   134\n",
       "20  3/30/2020                       16                   150\n",
       "21  3/31/2020                       27                   177\n",
       "22   4/1/2020                       39                   216\n",
       "23   4/2/2020                       47                   262\n",
       "24   4/3/2020                       22                   288\n",
       "25   4/4/2020                       35                   323\n",
       "26   4/5/2020                       44                   363\n",
       "27   4/6/2020                       46                   409"
      ]
     },
     "execution_count": 163,
     "metadata": {},
     "output_type": "execute_result"
    }
   ],
   "source": [
    "#Read Nebraska_Coronavirsu_PositiveCases.csv\n",
    "import pandas as pd\n",
    "my_DataFrame = pd.read_csv('Nebraska_Coronavirsu_PositiveCases.csv')\n",
    "my_DataFrame"
   ]
  },
  {
   "cell_type": "code",
   "execution_count": 165,
   "metadata": {},
   "outputs": [
    {
     "name": "stdout",
     "output_type": "stream",
     "text": [
      "The number of new case reported on the first day of screening is: 2\n"
     ]
    }
   ],
   "source": [
    "#Use a method to see the first 5 rows of the data\n",
    "my_DataFrame.head()\n",
    "print('The number of new case reported on the first day of screening is: 2')"
   ]
  },
  {
   "cell_type": "code",
   "execution_count": 164,
   "metadata": {},
   "outputs": [
    {
     "data": {
      "image/png": "[encoded data removed]",
      "text/plain": [
       "<Figure size 864x864 with 1 Axes>"
      ]
     },
     "metadata": {
      "needs_background": "light"
     },
     "output_type": "display_data"
    }
   ],
   "source": [
    "#Plot the total number of positive cases against date\n",
    "import matplotlib.pyplot as plt\n",
    "fig, ax = plt.subplots(figsize=(12, 12))\n",
    "plt.plot(my_DataFrame.Total_Positive_Cases, my_DataFrame.Date )\n",
    "\n",
    "#Set the title\n",
    "plt.title('CoronaVirus Positive Case in Nebraska Overtime')\n",
    "\n",
    "#Set the x label\n",
    "plt.xlabel('Total number of positve cases')\n",
    "\n",
    "#Set the y label\n",
    "plt.ylabel('Date')\n",
    "plt.show()"
   ]
  },
  {
   "cell_type": "code",
   "execution_count": 166,
   "metadata": {},
   "outputs": [
    {
     "data": {
      "text/html": [
       "<div>\n",
       "<style scoped>\n",
       "    .dataframe tbody tr th:only-of-type {\n",
       "        vertical-align: middle;\n",
       "    }\n",
       "\n",
       "    .dataframe tbody tr th {\n",
       "        vertical-align: top;\n",
       "    }\n",
       "\n",
       "    .dataframe thead th {\n",
       "        text-align: right;\n",
       "    }\n",
       "</style>\n",
       "<table border=\"1\" class=\"dataframe\">\n",
       "  <thead>\n",
       "    <tr style=\"text-align: right;\">\n",
       "      <th></th>\n",
       "      <th>Date</th>\n",
       "      <th>NEW_COVID_CASE_COUNT_Nebraska</th>\n",
       "      <th>NEW_COVID_CASE_COUNT_NewYork</th>\n",
       "      <th>total_NE</th>\n",
       "      <th>total_NY</th>\n",
       "    </tr>\n",
       "  </thead>\n",
       "  <tbody>\n",
       "    <tr>\n",
       "      <th>0</th>\n",
       "      <td>3/2/2020</td>\n",
       "      <td>0</td>\n",
       "      <td>1</td>\n",
       "      <td>0</td>\n",
       "      <td>1</td>\n",
       "    </tr>\n",
       "    <tr>\n",
       "      <th>1</th>\n",
       "      <td>3/3/2020</td>\n",
       "      <td>0</td>\n",
       "      <td>2</td>\n",
       "      <td>0</td>\n",
       "      <td>3</td>\n",
       "    </tr>\n",
       "    <tr>\n",
       "      <th>2</th>\n",
       "      <td>3/4/2020</td>\n",
       "      <td>0</td>\n",
       "      <td>10</td>\n",
       "      <td>0</td>\n",
       "      <td>13</td>\n",
       "    </tr>\n",
       "    <tr>\n",
       "      <th>3</th>\n",
       "      <td>3/5/2020</td>\n",
       "      <td>0</td>\n",
       "      <td>2</td>\n",
       "      <td>0</td>\n",
       "      <td>15</td>\n",
       "    </tr>\n",
       "    <tr>\n",
       "      <th>4</th>\n",
       "      <td>3/6/2020</td>\n",
       "      <td>0</td>\n",
       "      <td>8</td>\n",
       "      <td>0</td>\n",
       "      <td>23</td>\n",
       "    </tr>\n",
       "  </tbody>\n",
       "</table>\n",
       "</div>"
      ],
      "text/plain": [
       "       Date  NEW_COVID_CASE_COUNT_Nebraska  NEW_COVID_CASE_COUNT_NewYork  \\\n",
       "0  3/2/2020                              0                             1   \n",
       "1  3/3/2020                              0                             2   \n",
       "2  3/4/2020                              0                            10   \n",
       "3  3/5/2020                              0                             2   \n",
       "4  3/6/2020                              0                             8   \n",
       "\n",
       "   total_NE  total_NY  \n",
       "0         0         1  \n",
       "1         0         3  \n",
       "2         0        13  \n",
       "3         0        15  \n",
       "4         0        23  "
      ]
     },
     "execution_count": 166,
     "metadata": {},
     "output_type": "execute_result"
    }
   ],
   "source": [
    "#Read NewYork_Nebraska_PositiveCases.csv\n",
    "import pandas as pd\n",
    "my_Data = pd.read_csv('NewYork_Nebraska_PositiveCases.csv')\n",
    "my_Data\n",
    "\n",
    "#Use a method to see the first 5 rows of the data\n",
    "my_Data.head()"
   ]
  },
  {
   "cell_type": "code",
   "execution_count": 167,
   "metadata": {},
   "outputs": [
    {
     "data": {
      "text/html": [
       "<div>\n",
       "<style scoped>\n",
       "    .dataframe tbody tr th:only-of-type {\n",
       "        vertical-align: middle;\n",
       "    }\n",
       "\n",
       "    .dataframe tbody tr th {\n",
       "        vertical-align: top;\n",
       "    }\n",
       "\n",
       "    .dataframe thead th {\n",
       "        text-align: right;\n",
       "    }\n",
       "</style>\n",
       "<table border=\"1\" class=\"dataframe\">\n",
       "  <thead>\n",
       "    <tr style=\"text-align: right;\">\n",
       "      <th></th>\n",
       "      <th>Date</th>\n",
       "      <th>NEW_COVID_CASE_COUNT_Nebraska</th>\n",
       "      <th>NEW_COVID_CASE_COUNT_NewYork</th>\n",
       "      <th>total_NE</th>\n",
       "      <th>total_NY</th>\n",
       "    </tr>\n",
       "  </thead>\n",
       "  <tbody>\n",
       "    <tr>\n",
       "      <th>31</th>\n",
       "      <td>4/2/2020</td>\n",
       "      <td>47</td>\n",
       "      <td>3905</td>\n",
       "      <td>263</td>\n",
       "      <td>60529</td>\n",
       "    </tr>\n",
       "    <tr>\n",
       "      <th>32</th>\n",
       "      <td>4/3/2020</td>\n",
       "      <td>22</td>\n",
       "      <td>3250</td>\n",
       "      <td>285</td>\n",
       "      <td>63779</td>\n",
       "    </tr>\n",
       "    <tr>\n",
       "      <th>33</th>\n",
       "      <td>4/4/2020</td>\n",
       "      <td>35</td>\n",
       "      <td>1091</td>\n",
       "      <td>320</td>\n",
       "      <td>64870</td>\n",
       "    </tr>\n",
       "    <tr>\n",
       "      <th>34</th>\n",
       "      <td>4/5/2020</td>\n",
       "      <td>44</td>\n",
       "      <td>1100</td>\n",
       "      <td>364</td>\n",
       "      <td>65970</td>\n",
       "    </tr>\n",
       "    <tr>\n",
       "      <th>35</th>\n",
       "      <td>04/06/202</td>\n",
       "      <td>46</td>\n",
       "      <td>1200</td>\n",
       "      <td>410</td>\n",
       "      <td>67170</td>\n",
       "    </tr>\n",
       "  </tbody>\n",
       "</table>\n",
       "</div>"
      ],
      "text/plain": [
       "         Date  NEW_COVID_CASE_COUNT_Nebraska  NEW_COVID_CASE_COUNT_NewYork  \\\n",
       "31   4/2/2020                             47                          3905   \n",
       "32   4/3/2020                             22                          3250   \n",
       "33   4/4/2020                             35                          1091   \n",
       "34   4/5/2020                             44                          1100   \n",
       "35  04/06/202                             46                          1200   \n",
       "\n",
       "    total_NE  total_NY  \n",
       "31       263     60529  \n",
       "32       285     63779  \n",
       "33       320     64870  \n",
       "34       364     65970  \n",
       "35       410     67170  "
      ]
     },
     "execution_count": 167,
     "metadata": {},
     "output_type": "execute_result"
    }
   ],
   "source": [
    "#Use a method to see the last 5 rows of the data\n",
    "my_Data.tail()"
   ]
  },
  {
   "cell_type": "code",
   "execution_count": 168,
   "metadata": {},
   "outputs": [
    {
     "name": "stdout",
     "output_type": "stream",
     "text": [
      "The total number of cases in Nebraska using the data of \"NEW_COVID_CASE_COUNT_Nebraska\": 410\n"
     ]
    }
   ],
   "source": [
    "#Calculate the total number of cases in Nebraska using the data of 'NEW_COVID_CASE_COUNT_Nebraska'\n",
    "total_Nebraska= sum(my_Data.NEW_COVID_CASE_COUNT_Nebraska[0:36])\n",
    "print('The total number of cases in Nebraska using the data of \"NEW_COVID_CASE_COUNT_Nebraska\":', total_Nebraska)"
   ]
  },
  {
   "cell_type": "code",
   "execution_count": 169,
   "metadata": {},
   "outputs": [
    {
     "name": "stdout",
     "output_type": "stream",
     "text": [
      "The total number of cases in Nebraska using the data of \"NEW_COVID_CASE_COUNT_NewYork\": 67170\n"
     ]
    }
   ],
   "source": [
    "#Calculate the total number of cases in New York using the data of 'NEW_COVID_CASE_COUNT_NewYork'\n",
    "total_NewYork= sum(my_Data.NEW_COVID_CASE_COUNT_NewYork[0:36])\n",
    "print('The total number of cases in Nebraska using the data of \"NEW_COVID_CASE_COUNT_NewYork\":', total_NewYork)"
   ]
  },
  {
   "cell_type": "code",
   "execution_count": 170,
   "metadata": {},
   "outputs": [
    {
     "data": {
      "image/png": "[encoded data removed]",
      "text/plain": [
       "<Figure size 432x288 with 1 Axes>"
      ]
     },
     "metadata": {},
     "output_type": "display_data"
    }
   ],
   "source": [
    "#Draw a Pie chart showing the relative proportionof positivecases in these two states\n",
    "positive_cases = [sum(my_Data.NEW_COVID_CASE_COUNT_Nebraska[0:36]), sum(my_Data.NEW_COVID_CASE_COUNT_NewYork[0:36])]\n",
    "explodeTuple = (0.0,0.1)\n",
    "states= ['Nebraska', 'New York']\n",
    "colors = ['g', 'r']\n",
    "plt.pie(positive_cases, labels = states, colors = colors, autopct = '%1.1f%%', explode = explodeTuple)\n",
    "plt.title('Positive Cases of Nebraska and New York')\n",
    "plt.axis('equal')\n",
    "plt.savefig('positiveCasespiechart.png')\n",
    "plt.tight_layout()\n",
    "plt.show()"
   ]
  },
  {
   "cell_type": "code",
   "execution_count": 171,
   "metadata": {},
   "outputs": [
    {
     "data": {
      "image/png": "[encoded data removed]",
      "text/plain": [
       "<Figure size 1440x720 with 1 Axes>"
      ]
     },
     "metadata": {
      "needs_background": "light"
     },
     "output_type": "display_data"
    }
   ],
   "source": [
    "#Draw line-chart for NE total number of cases over time\n",
    "fig, ax = plt.subplots(figsize=(20, 10))\n",
    "plt.xticks(rotation = 90)\n",
    "plt.title('Total Positive Cases in Nebraska', fontsize = 20)\n",
    "plt.xlabel('Date')\n",
    "plt.ylabel('Number of Cases')\n",
    "plt.plot(my_Data['Date'], my_Data['total_NE'])\n",
    "plt.savefig('NETotalCaseslinechart.png')\n",
    "plt.show()"
   ]
  },
  {
   "cell_type": "code",
   "execution_count": 172,
   "metadata": {},
   "outputs": [
    {
     "data": {
      "image/png": "[encoded data removed]",
      "text/plain": [
       "<Figure size 1440x720 with 1 Axes>"
      ]
     },
     "metadata": {
      "needs_background": "light"
     },
     "output_type": "display_data"
    }
   ],
   "source": [
    "#Draw line-chart for NY total numberof cases over time\n",
    "fig, ax = plt.subplots(figsize=(20, 10))\n",
    "plt.xticks(rotation = 90)\n",
    "plt.title('Total Positive Cases in New York', fontsize = 20)\n",
    "plt.xlabel('Date')\n",
    "plt.ylabel('Number of Cases')\n",
    "plt.plot(my_Data['Date'], my_Data['total_NE'])\n",
    "plt.savefig('NYTotalCaseslinechart.png')\n",
    "plt.show()"
   ]
  },
  {
   "cell_type": "code",
   "execution_count": 173,
   "metadata": {},
   "outputs": [
    {
     "name": "stdout",
     "output_type": "stream",
     "text": [
      "The average number of positive cases per day in Nebraska: 11\n"
     ]
    }
   ],
   "source": [
    "#Find the average number of positive cases per day in Nebraska\n",
    "average_cases_Nebraska= round((sum(my_Data.NEW_COVID_CASE_COUNT_Nebraska[0:36]))/len(my_Data.NEW_COVID_CASE_COUNT_Nebraska[0:36]))\n",
    "print('The average number of positive cases per day in Nebraska:',average_cases_Nebraska )"
   ]
  },
  {
   "cell_type": "code",
   "execution_count": 174,
   "metadata": {},
   "outputs": [
    {
     "name": "stdout",
     "output_type": "stream",
     "text": [
      "The average number of positive cases per day in Nebraska: 1866\n"
     ]
    }
   ],
   "source": [
    "#Find the average number of positive cases per day in New York\n",
    "average_cases_NewYork= round((sum(my_Data.NEW_COVID_CASE_COUNT_NewYork[0:36]))/len(my_Data.NEW_COVID_CASE_COUNT_NewYork[0:36]))\n",
    "print('The average number of positive cases per day in Nebraska:',average_cases_NewYork)"
   ]
  },
  {
   "cell_type": "code",
   "execution_count": 175,
   "metadata": {},
   "outputs": [
    {
     "data": {
      "text/plain": [
       "count    36.000000\n",
       "mean     11.388889\n",
       "std      14.607782\n",
       "min       0.000000\n",
       "25%       1.000000\n",
       "50%       5.000000\n",
       "75%      17.000000\n",
       "max      47.000000\n",
       "Name: NEW_COVID_CASE_COUNT_Nebraska, dtype: float64"
      ]
     },
     "execution_count": 175,
     "metadata": {},
     "output_type": "execute_result"
    }
   ],
   "source": [
    "#Find the five-number-summary of 'NEW_COVID_CASE_COUNT_Nebraska' columns\n",
    "my_Data.NEW_COVID_CASE_COUNT_Nebraska.describe()"
   ]
  },
  {
   "cell_type": "code",
   "execution_count": 176,
   "metadata": {},
   "outputs": [
    {
     "data": {
      "text/plain": [
       "count      36.000000\n",
       "mean     1865.833333\n",
       "std      1559.629342\n",
       "min         1.000000\n",
       "25%       134.750000\n",
       "50%      2045.000000\n",
       "75%      3478.500000\n",
       "max      4356.000000\n",
       "Name: NEW_COVID_CASE_COUNT_NewYork, dtype: float64"
      ]
     },
     "execution_count": 176,
     "metadata": {},
     "output_type": "execute_result"
    }
   ],
   "source": [
    "#Find the five-number-summary of 'NEW_COVID_CASE_COUNT_NewYork'\n",
    "my_Data.NEW_COVID_CASE_COUNT_NewYork.describe()"
   ]
  }
 ],
 "metadata": {
  "kernelspec": {
   "display_name": "Python 3",
   "language": "python",
   "name": "python3"
  },
  "language_info": {
   "codemirror_mode": {
    "name": "ipython",
    "version": 3
   },
   "file_extension": ".py",
   "mimetype": "text/x-python",
   "name": "python",
   "nbconvert_exporter": "python",
   "pygments_lexer": "ipython3",
   "version": "3.8.3"
  }
 },
 "nbformat": 4,
 "nbformat_minor": 4
}
